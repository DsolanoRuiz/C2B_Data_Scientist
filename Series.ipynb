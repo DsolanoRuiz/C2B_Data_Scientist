{
 "cells": [
  {
   "attachments": {
    "image.png": {
     "image/png": "[encoded data removed]"
    }
   },
   "cell_type": "markdown",
   "metadata": {},
   "source": [
    "# Series\n",
    "Son estructuras similares a los arrays de una dimensión. Son homogéneas, es decir, sus elementos tienen que ser del mismo tipo, y su tamaño es inmutable, es decir, no se puede cambiar, aunque si su contenido\n",
    "\n",
    "Dispone de un índice que asocia un nombre a cada elemento del la serie, a través de la cuál se accede al elemento.\n",
    "\n",
    "![image.png](attachment:image.png)\n"
   ]
  },
  {
   "attachments": {},
   "cell_type": "markdown",
   "metadata": {},
   "source": [
    "### Definición\n",
    " Series(data=lista, index=indices, dtype=tipo) : Devuelve un objeto de tipo Series con los datos de la lista lista, las filas especificados en la lista indices y el tipo de datos indicado en tipo. Si no se pasa la lista de índices se utilizan como índices los enteros del 0 al final"
   ]
  },
  {
   "cell_type": "code",
   "execution_count": null,
   "metadata": {},
   "outputs": [],
   "source": [
    "import pandas as pd\n",
    "\n",
    "s = pd.Series(['Matemáticas', 'Historia', 'Economía', 'Programación', 'Inglés'], dtype='string')\n",
    "\n",
    "print(s)"
   ]
  },
  {
   "attachments": {},
   "cell_type": "markdown",
   "metadata": {},
   "source": [
    "Si no se indica el tipo asigna object por defecto\n"
   ]
  },
  {
   "cell_type": "code",
   "execution_count": null,
   "metadata": {},
   "outputs": [],
   "source": [
    "s2 = pd.Series(['Matemáticas', 'Historia', 'Economía', 'Programación', 'Inglés'])\n",
    "print(s2)"
   ]
  },
  {
   "attachments": {},
   "cell_type": "markdown",
   "metadata": {},
   "source": [
    "Se pueden crear de tipo diferente y los crea como \"object\""
   ]
  },
  {
   "cell_type": "code",
   "execution_count": null,
   "metadata": {},
   "outputs": [],
   "source": [
    "prueba=pd.Series([1,\"2\", True])\n",
    "\n",
    "print(prueba)"
   ]
  },
  {
   "attachments": {},
   "cell_type": "markdown",
   "metadata": {},
   "source": [
    "Se pueden especificar los nombres de los indices"
   ]
  },
  {
   "cell_type": "code",
   "execution_count": null,
   "metadata": {},
   "outputs": [],
   "source": [
    "s = pd.Series([6.0,4.5,8.5],index=['Matemáticas',  'Economía' ,'Programación'])\n",
    "print(s)"
   ]
  },
  {
   "attachments": {},
   "cell_type": "markdown",
   "metadata": {},
   "source": [
    "También se puede crear a partir de un diccionario"
   ]
  },
  {
   "cell_type": "code",
   "execution_count": null,
   "metadata": {},
   "outputs": [],
   "source": [
    "s = pd.Series({'Matemáticas': 6.0,  'Economía': 4.5, 'Programación': 8.5})\n",
    "print(s)"
   ]
  },
  {
   "attachments": {},
   "cell_type": "markdown",
   "metadata": {},
   "source": [
    "Si se utiliza el mismo indice se sobreescribre"
   ]
  },
  {
   "cell_type": "code",
   "execution_count": null,
   "metadata": {},
   "outputs": [],
   "source": [
    "s = pd.Series({'Matemáticas': 6.0, 'Matemáticas': 7.0, 'Economía': 4.5, 'Programación': 8.5})\n",
    "print(s)"
   ]
  },
  {
   "attachments": {},
   "cell_type": "markdown",
   "metadata": {},
   "source": [
    "Las variables pueden ser de cualquier tipo"
   ]
  },
  {
   "cell_type": "code",
   "execution_count": null,
   "metadata": {},
   "outputs": [],
   "source": [
    "diccionario_prueba=dict({'Matemáticas': 6.0,  'Economía': 4.5, 'Programación': 8.5})\n",
    "lista_prueba=[2,4,6,8,10,12,14,16,18]\n",
    "\n",
    "prueba=pd.Series([diccionario_prueba,lista_prueba],index=[\"Diccionario\", \"Lista\"])\n",
    "print(prueba)\n"
   ]
  },
  {
   "attachments": {},
   "cell_type": "markdown",
   "metadata": {},
   "source": [
    "### Ejercicio - Crear una serie a partir de una lista de numeros aleatorios"
   ]
  },
  {
   "cell_type": "code",
   "execution_count": null,
   "metadata": {},
   "outputs": [],
   "source": [
    "import random\n",
    "\n",
    "lista_numeros=random.randint(range(0,100),10)\n",
    "serie_prueba=pd.Series(lista_numeros)\n",
    "print(serie_prueba)"
   ]
  },
  {
   "attachments": {},
   "cell_type": "markdown",
   "metadata": {},
   "source": [
    "### Ejercicio - Crear una serie en el que cada elemento sea una lista de dos elementos:[Matemáticas', 6.0] , ['Economía', 4.5] , ['Programación', 8.5] "
   ]
  },
  {
   "cell_type": "code",
   "execution_count": null,
   "metadata": {},
   "outputs": [],
   "source": [
    "lista1=['Matemáticas', 6.0]\n",
    "lista2=['Economía', 4.5]\n",
    "lista3=['Programación', 8.5]\n",
    "\n",
    "s=pd.Series([lista1,lista2,lista3])\n",
    "print(s)"
   ]
  },
  {
   "attachments": {},
   "cell_type": "markdown",
   "metadata": {},
   "source": [
    "### Conversiónes inversas\n",
    "to_list() a lista\n",
    "\n",
    "to_dict() a diccionario"
   ]
  },
  {
   "cell_type": "code",
   "execution_count": null,
   "metadata": {},
   "outputs": [],
   "source": [
    "s = pd.Series({'Matemáticas': 6.0, 'Matemáticas': 7.0, 'Economía': 4.5, 'Programación': 8.5})\n",
    "print(s)\n",
    "\n",
    "l=s.to_list()\n",
    "print(l)\n",
    "\n",
    "d=s.to_dict()\n",
    "print(d)\n",
    "\n"
   ]
  },
  {
   "cell_type": "code",
   "execution_count": null,
   "metadata": {},
   "outputs": [],
   "source": [
    "s = pd.Series(['Matemáticas', 'Historia', 'Economía', 'Programación', 'Inglés'], dtype='string')\n",
    "d=s.to_dict()\n",
    "print(d)"
   ]
  },
  {
   "attachments": {},
   "cell_type": "markdown",
   "metadata": {},
   "source": [
    "### Principales atributos de una serie"
   ]
  },
  {
   "attachments": {},
   "cell_type": "markdown",
   "metadata": {},
   "source": [
    "s.size : Devuelve el número de elementos de la serie s.\n",
    "\n",
    "s.index : Devuelve una lista con los nombres de las filas del DataFrame \n",
    "\n",
    "s.dtype : Devuelve el tipo de datos de los elementos de la serie s."
   ]
  },
  {
   "cell_type": "code",
   "execution_count": null,
   "metadata": {},
   "outputs": [],
   "source": [
    "s = pd.Series([1, 2, 2, 3, 3, 3, 4, 4, 4, 4])\n",
    "\n",
    "print(s.size)\n",
    "print(s.index)\n",
    "print(s.dtype)"
   ]
  },
  {
   "cell_type": "code",
   "execution_count": null,
   "metadata": {},
   "outputs": [],
   "source": [
    "s = pd.Series({'Matemáticas': \"6.0\",  'Economía': 4.5, 'Programación': 8.5})\n",
    "\n",
    "print(s.size)\n",
    "print(s.index)\n",
    "print(s.dtype)"
   ]
  },
  {
   "attachments": {},
   "cell_type": "markdown",
   "metadata": {},
   "source": [
    "### Acceso a los elementos de una serie"
   ]
  },
  {
   "attachments": {},
   "cell_type": "markdown",
   "metadata": {},
   "source": [
    "Acceso por posición:\n",
    "\n",
    "s[i] : Devuelve el elemento que ocupa la posición i+1 en la serie s.\n",
    "\n",
    "s[rango]: Devuelve otra serie con los elementos con los nombres de la lista nombres en el índice."
   ]
  },
  {
   "cell_type": "code",
   "execution_count": null,
   "metadata": {},
   "outputs": [],
   "source": [
    "s = pd.Series({'Matemáticas': 6.0,  'Economía': 4.5, 'Programación': 8.5})\n",
    "print( s[1])\n",
    "print( s[1:3])\n",
    "\n",
    "print( type(s[1]))\n",
    "print( type(s[1:3]))"
   ]
  },
  {
   "attachments": {},
   "cell_type": "markdown",
   "metadata": {},
   "source": [
    "Acceso por índice:\n",
    "\n",
    "s[nombre] : Devuelve el elemento con el nombre nombre en el índice.\n",
    "\n",
    "s[rango] : Devuelve otra serie con los elementos correspondientes a los nombres indicadas en la lista nombres en el índice."
   ]
  },
  {
   "cell_type": "code",
   "execution_count": null,
   "metadata": {},
   "outputs": [],
   "source": [
    "print(s['Economía'])\n",
    "print(s[['Programación', 'Matemáticas']])"
   ]
  },
  {
   "cell_type": "code",
   "execution_count": null,
   "metadata": {},
   "outputs": [],
   "source": [
    "print(s['Econoía'])"
   ]
  },
  {
   "attachments": {},
   "cell_type": "markdown",
   "metadata": {},
   "source": [
    "## Operaciones matematicas\n",
    "\n",
    "Los operadores binarios (+, *, /,booleanos, etc.) pueden utilizarse con una serie, y devuelven otra serie con el resultado de aplicar la operación a cada elemento de la serie."
   ]
  },
  {
   "cell_type": "code",
   "execution_count": null,
   "metadata": {},
   "outputs": [],
   "source": [
    "s = pd.Series([1, 2, 3, 4])\n",
    "\n",
    "d=s+2\n",
    "e=s*2\n",
    "f=s%2\n",
    "\n",
    "print(d)\n",
    "print(e)\n",
    "print(f)"
   ]
  },
  {
   "attachments": {},
   "cell_type": "markdown",
   "metadata": {},
   "source": [
    "## Funciones basicas de series"
   ]
  },
  {
   "attachments": {},
   "cell_type": "markdown",
   "metadata": {},
   "source": [
    "s.count() : Devuelve el número de elementos que no son nulos ni NaN en la serie s."
   ]
  },
  {
   "attachments": {},
   "cell_type": "markdown",
   "metadata": {},
   "source": [
    "s.sum() : Devuelve la suma de los datos de la serie s cuando los datos son de un tipo numérico, o la concatenación de ellos cuando son del tipo cadena str."
   ]
  },
  {
   "attachments": {},
   "cell_type": "markdown",
   "metadata": {},
   "source": [
    "s.cumsum() : Devuelve una serie con la suma acumulada de los datos de la serie s cuando los datos son de un tipo numérico."
   ]
  },
  {
   "attachments": {},
   "cell_type": "markdown",
   "metadata": {},
   "source": [
    "s.value_counts() : Devuelve una serie con la frecuencia (número de repeticiones) de cada valor de la serie s."
   ]
  },
  {
   "attachments": {},
   "cell_type": "markdown",
   "metadata": {},
   "source": [
    "s.min() : Devuelve el menor de los datos de la serie s."
   ]
  },
  {
   "attachments": {},
   "cell_type": "markdown",
   "metadata": {},
   "source": [
    "s.max() : Devuelve el mayor de los datos de la serie s."
   ]
  },
  {
   "attachments": {},
   "cell_type": "markdown",
   "metadata": {},
   "source": [
    "s.mean() : Devuelve la media de los datos de la serie s cuando los datos son de un tipo numérico."
   ]
  },
  {
   "attachments": {},
   "cell_type": "markdown",
   "metadata": {},
   "source": [
    "s.std() : Devuelve la desviación típica de los datos de la serie s cuando los datos son de un tipo numérico."
   ]
  },
  {
   "attachments": {},
   "cell_type": "markdown",
   "metadata": {},
   "source": [
    "s.describe(): Devuelve una serie con un resumen descriptivo que incluye el número de datos, su suma, el mínimo, el máximo, la media, la desviación típica y los cuartiles."
   ]
  },
  {
   "attachments": {},
   "cell_type": "markdown",
   "metadata": {},
   "source": [
    "# Ejercicio\n",
    "\n",
    "Aplicar las funciones fundamentales en una serie y ver el resultado. Probarlo con dos series, una numerica y otra de texto"
   ]
  },
  {
   "cell_type": "code",
   "execution_count": null,
   "metadata": {},
   "outputs": [],
   "source": [
    "s = pd.Series([1, 2, 3, 4,4,3,2])\n",
    "\n",
    "print(s.count())\n",
    "print(s.sum())\n",
    "print(s.cumsum())\n",
    "print(s.value_counts())\n",
    "print(s.min())\n",
    "print(s.max())\n",
    "print(s.mean())\n",
    "print(s.std())\n",
    "print(s.describe())"
   ]
  },
  {
   "cell_type": "code",
   "execution_count": null,
   "metadata": {},
   "outputs": [],
   "source": [
    "s = pd.Series(['a', 'b', 'c', 'd','c','a','c'])\n",
    "\n",
    "print(s.count())\n",
    "print(s.sum())\n",
    "print(s.cumsum())\n",
    "print(s.value_counts())\n",
    "print(s.min())\n",
    "print(s.max())\n",
    "print(s.mean())\n",
    "print(s.std())\n",
    "print(s.describe())"
   ]
  },
  {
   "attachments": {},
   "cell_type": "markdown",
   "metadata": {},
   "source": [
    "### Aplicar funciones\n",
    "\n",
    "La función apply permite aplicar una función a todos los valores de una serie\n"
   ]
  },
  {
   "cell_type": "code",
   "execution_count": null,
   "metadata": {},
   "outputs": [],
   "source": [
    "s = pd.Series([1, 2, 3, 4])\n",
    "\n",
    "from math import log\n",
    "print(s.apply(log))\n",
    "\n",
    "cadena = pd.Series(['a', 'b', 'c'])\n",
    "print(cadena.apply(str.upper))\n"
   ]
  },
  {
   "attachments": {},
   "cell_type": "markdown",
   "metadata": {},
   "source": [
    "## Filtrar una serie\n",
    "\n",
    "s[condicion] : Devuelve una serie con los elementos de la serie s que se corresponden con el valor True de la lista booleana condicion. condicion debe ser una lista de valores booleanos de la misma longitud que la serie."
   ]
  },
  {
   "cell_type": "code",
   "execution_count": null,
   "metadata": {},
   "outputs": [],
   "source": [
    "s = pd.Series({'Matemáticas': 6.0,  'Economía': 4.5, 'Programación': 8.5})\n",
    "print(s)\n",
    "\n",
    "lista_filtrar=[True,False,True]\n",
    "print(s[lista_filtrar])\n"
   ]
  },
  {
   "cell_type": "code",
   "execution_count": null,
   "metadata": {},
   "outputs": [],
   "source": [
    "#Lo más normal es utilizar condiciones en función de los valores\n",
    "print(s[s > 5])"
   ]
  },
  {
   "attachments": {},
   "cell_type": "markdown",
   "metadata": {},
   "source": [
    "Se pueden incluir varias condiciones"
   ]
  },
  {
   "attachments": {},
   "cell_type": "markdown",
   "metadata": {},
   "source": [
    "## Ejercicio - Crear una serie con varios valores numericos entre 1 y 100 y filtrar los que son mayores de 20 y menores de 60"
   ]
  },
  {
   "cell_type": "code",
   "execution_count": null,
   "metadata": {},
   "outputs": [],
   "source": [
    "import random\n",
    "\n",
    "lista_numeros=random.sample(range(0,100),10)\n",
    "serie_prueba=pd.Series(lista_numeros)\n",
    "\n",
    "print(serie_prueba)\n",
    "\n",
    "print(serie_prueba[~(serie_prueba>20) ])\n",
    "print(type(serie_prueba[~(serie_prueba>20) ]))"
   ]
  },
  {
   "attachments": {},
   "cell_type": "markdown",
   "metadata": {},
   "source": [
    "## Ordenar una serie\n",
    "Existen dos formas, por valores or por indice"
   ]
  },
  {
   "attachments": {},
   "cell_type": "markdown",
   "metadata": {},
   "source": [
    "### Orden por valores\n",
    "sort_values(ascending=booleano) : Devuelve la serie que resulta de ordenar los valores la serie s. Si argumento del parámetro ascending es True el orden es creciente y si es False decreciente."
   ]
  },
  {
   "cell_type": "code",
   "execution_count": null,
   "metadata": {},
   "outputs": [],
   "source": [
    "s = pd.Series({'Matemáticas': 6.0,  'Economía': 4.5, 'Programación': 8.5})\n",
    "print(s.sort_values())"
   ]
  },
  {
   "attachments": {},
   "cell_type": "markdown",
   "metadata": {},
   "source": [
    "sort_index(ascending=booleano) : Devuelve la serie que resulta de ordenar el índice de la serie s. Si el argumento del parámetro ascending es True el orden es creciente y si es False decreciente."
   ]
  },
  {
   "cell_type": "code",
   "execution_count": null,
   "metadata": {},
   "outputs": [],
   "source": [
    "print(s.sort_index(ascending = False))"
   ]
  },
  {
   "attachments": {},
   "cell_type": "markdown",
   "metadata": {},
   "source": [
    "## Operaciones entre series"
   ]
  },
  {
   "attachments": {},
   "cell_type": "markdown",
   "metadata": {},
   "source": [
    "Se pueden sumar, restar, dividir, etc difrentes series pero deben tener el mismo tamaño"
   ]
  },
  {
   "cell_type": "code",
   "execution_count": null,
   "metadata": {},
   "outputs": [],
   "source": [
    "a=pd.Series([2,4,6])\n",
    "b=pd.Series([3,5,7])\n",
    "\n",
    "c=a+b\n",
    "d=a-b\n",
    "e=a/b\n",
    "f=a*b\n",
    "\n",
    "print(c)\n",
    "print(d)\n",
    "print(e)\n",
    "print(f)"
   ]
  },
  {
   "cell_type": "code",
   "execution_count": null,
   "metadata": {},
   "outputs": [],
   "source": [
    "a=pd.Series([2,4,6])\n",
    "b=pd.Series([3,5])\n",
    "\n",
    "c=a+b\n",
    "d=a-b\n",
    "e=a/b\n",
    "f=a*b\n",
    "\n",
    "print(c)\n",
    "print(d)\n",
    "print(e)\n",
    "print(f)"
   ]
  },
  {
   "attachments": {},
   "cell_type": "markdown",
   "metadata": {},
   "source": [
    "## Ejercicio. Sumar dos series, restar y dividir dos series"
   ]
  },
  {
   "attachments": {},
   "cell_type": "markdown",
   "metadata": {},
   "source": [
    "Se pueden comparar asi mismo dos series"
   ]
  },
  {
   "cell_type": "code",
   "execution_count": null,
   "metadata": {},
   "outputs": [],
   "source": [
    "serie1 = pd.Series([2, 4, 6, 8, 10])\n",
    "serie2 = pd.Series([1, 3, 5, 7, 10])\n",
    "\n",
    "series_igual=(serie1==serie2)\n",
    "print(series_igual)\n",
    "\n",
    "series_mayor=(serie1>serie2)\n",
    "print(series_mayor)\n",
    "\n",
    "series_menor=(serie1<serie2)\n",
    "print(series_menor)"
   ]
  },
  {
   "attachments": {},
   "cell_type": "markdown",
   "metadata": {},
   "source": [
    "## Otros metodos"
   ]
  },
  {
   "attachments": {},
   "cell_type": "markdown",
   "metadata": {},
   "source": [
    "pd.concat(), permite concatenar series"
   ]
  },
  {
   "cell_type": "code",
   "execution_count": null,
   "metadata": {},
   "outputs": [],
   "source": [
    "s1 = pd.Series(['a', 'b'])\n",
    "s2 = pd.Series(['c', 'd'])\n",
    "\n",
    "print(pd.concat([s1, s2]))"
   ]
  },
  {
   "attachments": {},
   "cell_type": "markdown",
   "metadata": {},
   "source": [
    "s.dropna() : Elimina los datos desconocidos o nulos de la serie s."
   ]
  },
  {
   "cell_type": "code",
   "execution_count": null,
   "metadata": {},
   "outputs": [],
   "source": [
    "s = pd.Series(['a', 'b', None, 'c', None,  'd'])\n",
    "\n",
    "\n",
    "print(s.dropna())"
   ]
  },
  {
   "attachments": {},
   "cell_type": "markdown",
   "metadata": {},
   "source": [
    "astype(), cambia los tipos de los valores"
   ]
  },
  {
   "cell_type": "code",
   "execution_count": null,
   "metadata": {},
   "outputs": [],
   "source": [
    "s2 = pd.Series(['1', '2', '3'])\n",
    "\n",
    "print(s)"
   ]
  },
  {
   "cell_type": "code",
   "execution_count": null,
   "metadata": {},
   "outputs": [],
   "source": [
    "d=s.astype(int)\n",
    "\n",
    "print(d)"
   ]
  },
  {
   "attachments": {},
   "cell_type": "markdown",
   "metadata": {},
   "source": [
    "### Ejercicio - Crear dos series [\"2\",\"4\",\"6\"] y [\"10\",\"20\",\"30\"]. Convertirlas a enteros y crear una serie nueva con la suma, en la que el indice sea la operación realizada(por ejemplo, \"2+10\")"
   ]
  },
  {
   "attachments": {},
   "cell_type": "markdown",
   "metadata": {},
   "source": [
    "isin() encuentra que valores de una serie esta en la serie"
   ]
  },
  {
   "cell_type": "code",
   "execution_count": null,
   "metadata": {},
   "outputs": [],
   "source": [
    "serie_1 = pd.Series(['a', 'b', 'c', '1', '1',  'f'])\n",
    "serie_2 = pd.Series(['1', '2', '3'])\n",
    "\n",
    "print(serie_1.isin(serie_2))\n",
    "print(serie_2.isin(serie_1))"
   ]
  },
  {
   "cell_type": "code",
   "execution_count": null,
   "metadata": {},
   "outputs": [],
   "source": [
    "print(serie_1[serie_1.isin(serie_2)])\n",
    "\n",
    "print(serie_2[serie_2.isin(serie_1)])"
   ]
  }
 ],
 "metadata": {
  "kernelspec": {
   "display_name": "Python 3",
   "language": "python",
   "name": "python3"
  },
  "language_info": {
   "codemirror_mode": {
    "name": "ipython",
    "version": 3
   },
   "file_extension": ".py",
   "mimetype": "text/x-python",
   "name": "python",
   "nbconvert_exporter": "python",
   "pygments_lexer": "ipython3",
   "version": "3.9.1"
  },
  "orig_nbformat": 4
 },
 "nbformat": 4,
 "nbformat_minor": 2
}
